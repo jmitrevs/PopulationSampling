{
 "cells": [
  {
   "cell_type": "markdown",
   "metadata": {},
   "source": [
    "# Exercise 15:  Estimating Population Size\n",
    "This is an exercise to estimate the population size. We will use this notebook to do the experiment.\n",
    "\n",
    "First a brief introduction to how this notebook works. It is a \"jupyter\" notebook running \"Python,\" if you are interested. It is quite simple, though, and you do not need any previous experience to use it.\n",
    "\n",
    "You execute the code in a cell by pressing Shift-Return. (Return by itself just adds a new linen.)\n",
    "\n",
    "You can always restart the experiment by executing the cells again from the top down."
   ]
  },
  {
   "cell_type": "markdown",
   "metadata": {},
   "source": [
    "The line below just loads the software to simulate the population. Please run it by pressing Shift-Return in the cell."
   ]
  },
  {
   "cell_type": "code",
   "execution_count": 10,
   "metadata": {},
   "outputs": [],
   "source": [
    "from PopulationSampling import PopulationSampling"
   ]
  },
  {
   "cell_type": "markdown",
   "metadata": {},
   "source": [
    "Then we want to initialize a random-sized population. Note, each time you execute this you get a different population size."
   ]
  },
  {
   "cell_type": "code",
   "execution_count": 13,
   "metadata": {},
   "outputs": [],
   "source": [
    "minPopulation = 200  # The nimimum population to create\n",
    "maxPopulation = 500  # The maximum population to create\n",
    "# Now create a population with a random number between minPopulation and maxPopulation\n",
    "population = PopulationSampling(minPopulation, maxPopulation)"
   ]
  },
  {
   "cell_type": "markdown",
   "metadata": {},
   "source": [
    "How many do we mark from the population? Note, this is not adding additional samples but marking some already existing samples."
   ]
  },
  {
   "cell_type": "code",
   "execution_count": 15,
   "metadata": {},
   "outputs": [],
   "source": [
    "howManyToMark = 30  # Mark this many\n",
    "population.mark(howManyToMark)"
   ]
  },
  {
   "cell_type": "markdown",
   "metadata": {},
   "source": [
    "Take a sample of a given size, and return how many marked samples are selected. Note that each time you execute this (by pressing Shift-Return) you take a new sample."
   ]
  },
  {
   "cell_type": "code",
   "execution_count": 21,
   "metadata": {},
   "outputs": [
    {
     "data": {
      "text/plain": [
       "2"
      ]
     },
     "execution_count": 21,
     "metadata": {},
     "output_type": "execute_result"
    }
   ],
   "source": [
    "population.takeSample(20)"
   ]
  },
  {
   "cell_type": "markdown",
   "metadata": {},
   "source": [
    "Execute the line above multiple times to fill out your table on the assignment sheet."
   ]
  },
  {
   "cell_type": "markdown",
   "metadata": {},
   "source": [
    "The line below will tell you the actual population size"
   ]
  },
  {
   "cell_type": "code",
   "execution_count": 22,
   "metadata": {},
   "outputs": [
    {
     "data": {
      "text/plain": [
       "295"
      ]
     },
     "execution_count": 22,
     "metadata": {},
     "output_type": "execute_result"
    }
   ],
   "source": [
    "population.populationSize"
   ]
  },
  {
   "cell_type": "code",
   "execution_count": null,
   "metadata": {},
   "outputs": [],
   "source": []
  }
 ],
 "metadata": {
  "kernelspec": {
   "display_name": "Python 3",
   "language": "python",
   "name": "python3"
  },
  "language_info": {
   "codemirror_mode": {
    "name": "ipython",
    "version": 3
   },
   "file_extension": ".py",
   "mimetype": "text/x-python",
   "name": "python",
   "nbconvert_exporter": "python",
   "pygments_lexer": "ipython3",
   "version": "3.7.7"
  }
 },
 "nbformat": 4,
 "nbformat_minor": 4
}
